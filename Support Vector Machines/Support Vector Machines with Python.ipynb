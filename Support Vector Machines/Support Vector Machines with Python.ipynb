{
 "nbformat": 4,
 "nbformat_minor": 2,
 "metadata": {
  "language_info": {
   "name": "python",
   "codemirror_mode": {
    "name": "ipython",
    "version": 3
   },
   "version": "3.7.1"
  },
  "orig_nbformat": 2,
  "file_extension": ".py",
  "mimetype": "text/x-python",
  "name": "python",
  "npconvert_exporter": "python",
  "pygments_lexer": "ipython3",
  "version": 3
 },
 "cells": [
  {
   "cell_type": "code",
   "execution_count": 1,
   "metadata": {},
   "outputs": [],
   "source": [
    "import pandas as pd\n",
    "import numpy as np\n",
    "import matplotlib.pyplot as plt\n",
    "import seaborn as sns\n",
    "%matplotlib inline\n"
   ]
  },
  {
   "cell_type": "code",
   "execution_count": 3,
   "metadata": {},
   "outputs": [],
   "source": [
    "from sklearn.datasets import load_breast_cancer\n",
    "cancer = load_breast_cancer()"
   ]
  },
  {
   "cell_type": "code",
   "execution_count": 4,
   "metadata": {},
   "outputs": [
    {
     "data": {
      "text/plain": "dict_keys(['data', 'target', 'target_names', 'DESCR', 'feature_names', 'filename'])"
     },
     "execution_count": 4,
     "metadata": {},
     "output_type": "execute_result"
    }
   ],
   "source": [
    "cancer.keys()"
   ]
  },
  {
   "cell_type": "code",
   "execution_count": 5,
   "metadata": {},
   "outputs": [
    {
     "name": "stdout",
     "output_type": "stream",
     "text": ".. _breast_cancer_dataset:\n\nBreast cancer wisconsin (diagnostic) dataset\n--------------------------------------------\n\n**Data Set Characteristics:**\n\n    :Number of Instances: 569\n\n    :Number of Attributes: 30 numeric, predictive attributes and the class\n\n    :Attribute Information:\n        - radius (mean of distances from center to points on the perimeter)\n        - texture (standard deviation of gray-scale values)\n        - perimeter\n        - area\n        - smoothness (local variation in radius lengths)\n        - compactness (perimeter^2 / area - 1.0)\n        - concavity (severity of concave portions of the contour)\n        - concave points (number of concave portions of the contour)\n        - symmetry \n        - fractal dimension (\"coastline approximation\" - 1)\n\n        The mean, standard error, and \"worst\" or largest (mean of the three\n        largest values) of these features were computed for each image,\n        resulting in 30 features.  For instance, field 3 is Mean Radius, field\n        13 is Radius SE, field 23 is Worst Radius.\n\n        - class:\n                - WDBC-Malignant\n                - WDBC-Benign\n\n    :Summary Statistics:\n\n    ===================================== ====== ======\n                                           Min    Max\n    ===================================== ====== ======\n    radius (mean):                        6.981  28.11\n    texture (mean):                       9.71   39.28\n    perimeter (mean):                     43.79  188.5\n    area (mean):                          143.5  2501.0\n    smoothness (mean):                    0.053  0.163\n    compactness (mean):                   0.019  0.345\n    concavity (mean):                     0.0    0.427\n    concave points (mean):                0.0    0.201\n    symmetry (mean):                      0.106  0.304\n    fractal dimension (mean):             0.05   0.097\n    radius (standard error):              0.112  2.873\n    texture (standard error):             0.36   4.885\n    perimeter (standard error):           0.757  21.98\n    area (standard error):                6.802  542.2\n    smoothness (standard error):          0.002  0.031\n    compactness (standard error):         0.002  0.135\n    concavity (standard error):           0.0    0.396\n    concave points (standard error):      0.0    0.053\n    symmetry (standard error):            0.008  0.079\n    fractal dimension (standard error):   0.001  0.03\n    radius (worst):                       7.93   36.04\n    texture (worst):                      12.02  49.54\n    perimeter (worst):                    50.41  251.2\n    area (worst):                         185.2  4254.0\n    smoothness (worst):                   0.071  0.223\n    compactness (worst):                  0.027  1.058\n    concavity (worst):                    0.0    1.252\n    concave points (worst):               0.0    0.291\n    symmetry (worst):                     0.156  0.664\n    fractal dimension (worst):            0.055  0.208\n    ===================================== ====== ======\n\n    :Missing Attribute Values: None\n\n    :Class Distribution: 212 - Malignant, 357 - Benign\n\n    :Creator:  Dr. William H. Wolberg, W. Nick Street, Olvi L. Mangasarian\n\n    :Donor: Nick Street\n\n    :Date: November, 1995\n\nThis is a copy of UCI ML Breast Cancer Wisconsin (Diagnostic) datasets.\nhttps://goo.gl/U2Uwz2\n\nFeatures are computed from a digitized image of a fine needle\naspirate (FNA) of a breast mass.  They describe\ncharacteristics of the cell nuclei present in the image.\n\nSeparating plane described above was obtained using\nMultisurface Method-Tree (MSM-T) [K. P. Bennett, \"Decision Tree\nConstruction Via Linear Programming.\" Proceedings of the 4th\nMidwest Artificial Intelligence and Cognitive Science Society,\npp. 97-101, 1992], a classification method which uses linear\nprogramming to construct a decision tree.  Relevant features\nwere selected using an exhaustive search in the space of 1-4\nfeatures and 1-3 separating planes.\n\nThe actual linear program used to obtain the separating plane\nin the 3-dimensional space is that described in:\n[K. P. Bennett and O. L. Mangasarian: \"Robust Linear\nProgramming Discrimination of Two Linearly Inseparable Sets\",\nOptimization Methods and Software 1, 1992, 23-34].\n\nThis database is also available through the UW CS ftp server:\n\nftp ftp.cs.wisc.edu\ncd math-prog/cpo-dataset/machine-learn/WDBC/\n\n.. topic:: References\n\n   - W.N. Street, W.H. Wolberg and O.L. Mangasarian. Nuclear feature extraction \n     for breast tumor diagnosis. IS&T/SPIE 1993 International Symposium on \n     Electronic Imaging: Science and Technology, volume 1905, pages 861-870,\n     San Jose, CA, 1993.\n   - O.L. Mangasarian, W.N. Street and W.H. Wolberg. Breast cancer diagnosis and \n     prognosis via linear programming. Operations Research, 43(4), pages 570-577, \n     July-August 1995.\n   - W.H. Wolberg, W.N. Street, and O.L. Mangasarian. Machine learning techniques\n     to diagnose breast cancer from fine-needle aspirates. Cancer Letters 77 (1994) \n     163-171.\n"
    }
   ],
   "source": [
    "print(cancer['DESCR'])"
   ]
  },
  {
   "cell_type": "code",
   "execution_count": 6,
   "metadata": {},
   "outputs": [
    {
     "data": {
      "text/plain": "array(['mean radius', 'mean texture', 'mean perimeter', 'mean area',\n       'mean smoothness', 'mean compactness', 'mean concavity',\n       'mean concave points', 'mean symmetry', 'mean fractal dimension',\n       'radius error', 'texture error', 'perimeter error', 'area error',\n       'smoothness error', 'compactness error', 'concavity error',\n       'concave points error', 'symmetry error',\n       'fractal dimension error', 'worst radius', 'worst texture',\n       'worst perimeter', 'worst area', 'worst smoothness',\n       'worst compactness', 'worst concavity', 'worst concave points',\n       'worst symmetry', 'worst fractal dimension'], dtype='<U23')"
     },
     "execution_count": 6,
     "metadata": {},
     "output_type": "execute_result"
    }
   ],
   "source": [
    "cancer['feature_names']"
   ]
  },
  {
   "cell_type": "code",
   "execution_count": 7,
   "metadata": {},
   "outputs": [
    {
     "name": "stdout",
     "output_type": "stream",
     "text": "<class 'pandas.core.frame.DataFrame'>\nRangeIndex: 569 entries, 0 to 568\nData columns (total 30 columns):\nmean radius                569 non-null float64\nmean texture               569 non-null float64\nmean perimeter             569 non-null float64\nmean area                  569 non-null float64\nmean smoothness            569 non-null float64\nmean compactness           569 non-null float64\nmean concavity             569 non-null float64\nmean concave points        569 non-null float64\nmean symmetry              569 non-null float64\nmean fractal dimension     569 non-null float64\nradius error               569 non-null float64\ntexture error              569 non-null float64\nperimeter error            569 non-null float64\narea error                 569 non-null float64\nsmoothness error           569 non-null float64\ncompactness error          569 non-null float64\nconcavity error            569 non-null float64\nconcave points error       569 non-null float64\nsymmetry error             569 non-null float64\nfractal dimension error    569 non-null float64\nworst radius               569 non-null float64\nworst texture              569 non-null float64\nworst perimeter            569 non-null float64\nworst area                 569 non-null float64\nworst smoothness           569 non-null float64\nworst compactness          569 non-null float64\nworst concavity            569 non-null float64\nworst concave points       569 non-null float64\nworst symmetry             569 non-null float64\nworst fractal dimension    569 non-null float64\ndtypes: float64(30)\nmemory usage: 133.4 KB\n"
    }
   ],
   "source": [
    "df_features = pd.DataFrame(cancer['data'], columns=cancer['feature_names'])\n",
    "df_features.info()"
   ]
  },
  {
   "cell_type": "code",
   "execution_count": 8,
   "metadata": {},
   "outputs": [
    {
     "data": {
      "text/plain": "array([0, 0, 0, 0, 0, 0, 0, 0, 0, 0, 0, 0, 0, 0, 0, 0, 0, 0, 0, 1, 1, 1,\n       0, 0, 0, 0, 0, 0, 0, 0, 0, 0, 0, 0, 0, 0, 0, 1, 0, 0, 0, 0, 0, 0,\n       0, 0, 1, 0, 1, 1, 1, 1, 1, 0, 0, 1, 0, 0, 1, 1, 1, 1, 0, 1, 0, 0,\n       1, 1, 1, 1, 0, 1, 0, 0, 1, 0, 1, 0, 0, 1, 1, 1, 0, 0, 1, 0, 0, 0,\n       1, 1, 1, 0, 1, 1, 0, 0, 1, 1, 1, 0, 0, 1, 1, 1, 1, 0, 1, 1, 0, 1,\n       1, 1, 1, 1, 1, 1, 1, 0, 0, 0, 1, 0, 0, 1, 1, 1, 0, 0, 1, 0, 1, 0,\n       0, 1, 0, 0, 1, 1, 0, 1, 1, 0, 1, 1, 1, 1, 0, 1, 1, 1, 1, 1, 1, 1,\n       1, 1, 0, 1, 1, 1, 1, 0, 0, 1, 0, 1, 1, 0, 0, 1, 1, 0, 0, 1, 1, 1,\n       1, 0, 1, 1, 0, 0, 0, 1, 0, 1, 0, 1, 1, 1, 0, 1, 1, 0, 0, 1, 0, 0,\n       0, 0, 1, 0, 0, 0, 1, 0, 1, 0, 1, 1, 0, 1, 0, 0, 0, 0, 1, 1, 0, 0,\n       1, 1, 1, 0, 1, 1, 1, 1, 1, 0, 0, 1, 1, 0, 1, 1, 0, 0, 1, 0, 1, 1,\n       1, 1, 0, 1, 1, 1, 1, 1, 0, 1, 0, 0, 0, 0, 0, 0, 0, 0, 0, 0, 0, 0,\n       0, 0, 1, 1, 1, 1, 1, 1, 0, 1, 0, 1, 1, 0, 1, 1, 0, 1, 0, 0, 1, 1,\n       1, 1, 1, 1, 1, 1, 1, 1, 1, 1, 1, 0, 1, 1, 0, 1, 0, 1, 1, 1, 1, 1,\n       1, 1, 1, 1, 1, 1, 1, 1, 1, 0, 1, 1, 1, 0, 1, 0, 1, 1, 1, 1, 0, 0,\n       0, 1, 1, 1, 1, 0, 1, 0, 1, 0, 1, 1, 1, 0, 1, 1, 1, 1, 1, 1, 1, 0,\n       0, 0, 1, 1, 1, 1, 1, 1, 1, 1, 1, 1, 1, 0, 0, 1, 0, 0, 0, 1, 0, 0,\n       1, 1, 1, 1, 1, 0, 1, 1, 1, 1, 1, 0, 1, 1, 1, 0, 1, 1, 0, 0, 1, 1,\n       1, 1, 1, 1, 0, 1, 1, 1, 1, 1, 1, 1, 0, 1, 1, 1, 1, 1, 0, 1, 1, 0,\n       1, 1, 1, 1, 1, 1, 1, 1, 1, 1, 1, 1, 0, 1, 0, 0, 1, 0, 1, 1, 1, 1,\n       1, 0, 1, 1, 0, 1, 0, 1, 1, 0, 1, 0, 1, 1, 1, 1, 1, 1, 1, 1, 0, 0,\n       1, 1, 1, 1, 1, 1, 0, 1, 1, 1, 1, 1, 1, 1, 1, 1, 1, 0, 1, 1, 1, 1,\n       1, 1, 1, 0, 1, 0, 1, 1, 0, 1, 1, 1, 1, 1, 0, 0, 1, 0, 1, 0, 1, 1,\n       1, 1, 1, 0, 1, 1, 0, 1, 0, 1, 0, 0, 1, 1, 1, 0, 1, 1, 1, 1, 1, 1,\n       1, 1, 1, 1, 1, 0, 1, 0, 0, 1, 1, 1, 1, 1, 1, 1, 1, 1, 1, 1, 1, 1,\n       1, 1, 1, 1, 1, 1, 1, 1, 1, 1, 1, 1, 0, 0, 0, 0, 0, 0, 1])"
     },
     "execution_count": 8,
     "metadata": {},
     "output_type": "execute_result"
    }
   ],
   "source": [
    "cancer['target']"
   ]
  },
  {
   "cell_type": "code",
   "execution_count": 9,
   "metadata": {},
   "outputs": [],
   "source": [
    "df_target = pd.DataFrame(cancer['target'], columns=['Cancer'])"
   ]
  },
  {
   "cell_type": "code",
   "execution_count": 11,
   "metadata": {},
   "outputs": [
    {
     "data": {
      "text/html": "<div>\n<style scoped>\n    .dataframe tbody tr th:only-of-type {\n        vertical-align: middle;\n    }\n\n    .dataframe tbody tr th {\n        vertical-align: top;\n    }\n\n    .dataframe thead th {\n        text-align: right;\n    }\n</style>\n<table border=\"1\" class=\"dataframe\">\n  <thead>\n    <tr style=\"text-align: right;\">\n      <th></th>\n      <th>mean radius</th>\n      <th>mean texture</th>\n      <th>mean perimeter</th>\n      <th>mean area</th>\n      <th>mean smoothness</th>\n      <th>mean compactness</th>\n      <th>mean concavity</th>\n      <th>mean concave points</th>\n      <th>mean symmetry</th>\n      <th>mean fractal dimension</th>\n      <th>...</th>\n      <th>worst radius</th>\n      <th>worst texture</th>\n      <th>worst perimeter</th>\n      <th>worst area</th>\n      <th>worst smoothness</th>\n      <th>worst compactness</th>\n      <th>worst concavity</th>\n      <th>worst concave points</th>\n      <th>worst symmetry</th>\n      <th>worst fractal dimension</th>\n    </tr>\n  </thead>\n  <tbody>\n    <tr>\n      <th>0</th>\n      <td>17.99</td>\n      <td>10.38</td>\n      <td>122.80</td>\n      <td>1001.0</td>\n      <td>0.11840</td>\n      <td>0.27760</td>\n      <td>0.3001</td>\n      <td>0.14710</td>\n      <td>0.2419</td>\n      <td>0.07871</td>\n      <td>...</td>\n      <td>25.38</td>\n      <td>17.33</td>\n      <td>184.60</td>\n      <td>2019.0</td>\n      <td>0.1622</td>\n      <td>0.6656</td>\n      <td>0.7119</td>\n      <td>0.2654</td>\n      <td>0.4601</td>\n      <td>0.11890</td>\n    </tr>\n    <tr>\n      <th>1</th>\n      <td>20.57</td>\n      <td>17.77</td>\n      <td>132.90</td>\n      <td>1326.0</td>\n      <td>0.08474</td>\n      <td>0.07864</td>\n      <td>0.0869</td>\n      <td>0.07017</td>\n      <td>0.1812</td>\n      <td>0.05667</td>\n      <td>...</td>\n      <td>24.99</td>\n      <td>23.41</td>\n      <td>158.80</td>\n      <td>1956.0</td>\n      <td>0.1238</td>\n      <td>0.1866</td>\n      <td>0.2416</td>\n      <td>0.1860</td>\n      <td>0.2750</td>\n      <td>0.08902</td>\n    </tr>\n    <tr>\n      <th>2</th>\n      <td>19.69</td>\n      <td>21.25</td>\n      <td>130.00</td>\n      <td>1203.0</td>\n      <td>0.10960</td>\n      <td>0.15990</td>\n      <td>0.1974</td>\n      <td>0.12790</td>\n      <td>0.2069</td>\n      <td>0.05999</td>\n      <td>...</td>\n      <td>23.57</td>\n      <td>25.53</td>\n      <td>152.50</td>\n      <td>1709.0</td>\n      <td>0.1444</td>\n      <td>0.4245</td>\n      <td>0.4504</td>\n      <td>0.2430</td>\n      <td>0.3613</td>\n      <td>0.08758</td>\n    </tr>\n    <tr>\n      <th>3</th>\n      <td>11.42</td>\n      <td>20.38</td>\n      <td>77.58</td>\n      <td>386.1</td>\n      <td>0.14250</td>\n      <td>0.28390</td>\n      <td>0.2414</td>\n      <td>0.10520</td>\n      <td>0.2597</td>\n      <td>0.09744</td>\n      <td>...</td>\n      <td>14.91</td>\n      <td>26.50</td>\n      <td>98.87</td>\n      <td>567.7</td>\n      <td>0.2098</td>\n      <td>0.8663</td>\n      <td>0.6869</td>\n      <td>0.2575</td>\n      <td>0.6638</td>\n      <td>0.17300</td>\n    </tr>\n    <tr>\n      <th>4</th>\n      <td>20.29</td>\n      <td>14.34</td>\n      <td>135.10</td>\n      <td>1297.0</td>\n      <td>0.10030</td>\n      <td>0.13280</td>\n      <td>0.1980</td>\n      <td>0.10430</td>\n      <td>0.1809</td>\n      <td>0.05883</td>\n      <td>...</td>\n      <td>22.54</td>\n      <td>16.67</td>\n      <td>152.20</td>\n      <td>1575.0</td>\n      <td>0.1374</td>\n      <td>0.2050</td>\n      <td>0.4000</td>\n      <td>0.1625</td>\n      <td>0.2364</td>\n      <td>0.07678</td>\n    </tr>\n  </tbody>\n</table>\n<p>5 rows × 30 columns</p>\n</div>",
      "text/plain": "   mean radius  mean texture  mean perimeter  mean area  mean smoothness  \\\n0        17.99         10.38          122.80     1001.0          0.11840   \n1        20.57         17.77          132.90     1326.0          0.08474   \n2        19.69         21.25          130.00     1203.0          0.10960   \n3        11.42         20.38           77.58      386.1          0.14250   \n4        20.29         14.34          135.10     1297.0          0.10030   \n\n   mean compactness  mean concavity  mean concave points  mean symmetry  \\\n0           0.27760          0.3001              0.14710         0.2419   \n1           0.07864          0.0869              0.07017         0.1812   \n2           0.15990          0.1974              0.12790         0.2069   \n3           0.28390          0.2414              0.10520         0.2597   \n4           0.13280          0.1980              0.10430         0.1809   \n\n   mean fractal dimension           ...             worst radius  \\\n0                 0.07871           ...                    25.38   \n1                 0.05667           ...                    24.99   \n2                 0.05999           ...                    23.57   \n3                 0.09744           ...                    14.91   \n4                 0.05883           ...                    22.54   \n\n   worst texture  worst perimeter  worst area  worst smoothness  \\\n0          17.33           184.60      2019.0            0.1622   \n1          23.41           158.80      1956.0            0.1238   \n2          25.53           152.50      1709.0            0.1444   \n3          26.50            98.87       567.7            0.2098   \n4          16.67           152.20      1575.0            0.1374   \n\n   worst compactness  worst concavity  worst concave points  worst symmetry  \\\n0             0.6656           0.7119                0.2654          0.4601   \n1             0.1866           0.2416                0.1860          0.2750   \n2             0.4245           0.4504                0.2430          0.3613   \n3             0.8663           0.6869                0.2575          0.6638   \n4             0.2050           0.4000                0.1625          0.2364   \n\n   worst fractal dimension  \n0                  0.11890  \n1                  0.08902  \n2                  0.08758  \n3                  0.17300  \n4                  0.07678  \n\n[5 rows x 30 columns]"
     },
     "execution_count": 11,
     "metadata": {},
     "output_type": "execute_result"
    }
   ],
   "source": [
    "df_features.head()"
   ]
  },
  {
   "cell_type": "code",
   "execution_count": 13,
   "metadata": {},
   "outputs": [],
   "source": [
    "from sklearn.model_selection import train_test_split"
   ]
  },
  {
   "cell_type": "code",
   "execution_count": 14,
   "metadata": {},
   "outputs": [],
   "source": [
    "X_train, X_test, y_train, y_test = train_test_split(df_features, np.ravel(df_target), test_size=0.30, random_state=101)"
   ]
  },
  {
   "cell_type": "code",
   "execution_count": 15,
   "metadata": {},
   "outputs": [
    {
     "name": "stdout",
     "output_type": "stream",
     "text": "Help on function ravel in module numpy.core.fromnumeric:\n\nravel(a, order='C')\n    Return a contiguous flattened array.\n    \n    A 1-D array, containing the elements of the input, is returned.  A copy is\n    made only if needed.\n    \n    As of NumPy 1.10, the returned array will have the same type as the input\n    array. (for example, a masked array will be returned for a masked array\n    input)\n    \n    Parameters\n    ----------\n    a : array_like\n        Input array.  The elements in `a` are read in the order specified by\n        `order`, and packed as a 1-D array.\n    order : {'C','F', 'A', 'K'}, optional\n    \n        The elements of `a` are read using this index order. 'C' means\n        to index the elements in row-major, C-style order,\n        with the last axis index changing fastest, back to the first\n        axis index changing slowest.  'F' means to index the elements\n        in column-major, Fortran-style order, with the\n        first index changing fastest, and the last index changing\n        slowest. Note that the 'C' and 'F' options take no account of\n        the memory layout of the underlying array, and only refer to\n        the order of axis indexing.  'A' means to read the elements in\n        Fortran-like index order if `a` is Fortran *contiguous* in\n        memory, C-like order otherwise.  'K' means to read the\n        elements in the order they occur in memory, except for\n        reversing the data when strides are negative.  By default, 'C'\n        index order is used.\n    \n    Returns\n    -------\n    y : array_like\n        y is an array of the same subtype as `a`, with shape ``(a.size,)``.\n        Note that matrices are special cased for backward compatibility, if `a`\n        is a matrix, then y is a 1-D ndarray.\n    \n    See Also\n    --------\n    ndarray.flat : 1-D iterator over an array.\n    ndarray.flatten : 1-D array copy of the elements of an array\n                      in row-major order.\n    ndarray.reshape : Change the shape of an array without changing its data.\n    \n    Notes\n    -----\n    In row-major, C-style order, in two dimensions, the row index\n    varies the slowest, and the column index the quickest.  This can\n    be generalized to multiple dimensions, where row-major order\n    implies that the index along the first axis varies slowest, and\n    the index along the last quickest.  The opposite holds for\n    column-major, Fortran-style index ordering.\n    \n    When a view is desired in as many cases as possible, ``arr.reshape(-1)``\n    may be preferable.\n    \n    Examples\n    --------\n    It is equivalent to ``reshape(-1, order=order)``.\n    \n    >>> x = np.array([[1, 2, 3], [4, 5, 6]])\n    >>> print(np.ravel(x))\n    [1 2 3 4 5 6]\n    \n    >>> print(x.reshape(-1))\n    [1 2 3 4 5 6]\n    \n    >>> print(np.ravel(x, order='F'))\n    [1 4 2 5 3 6]\n    \n    When ``order`` is 'A', it will preserve the array's 'C' or 'F' ordering:\n    \n    >>> print(np.ravel(x.T))\n    [1 4 2 5 3 6]\n    >>> print(np.ravel(x.T, order='A'))\n    [1 2 3 4 5 6]\n    \n    When ``order`` is 'K', it will preserve orderings that are neither 'C'\n    nor 'F', but won't reverse axes:\n    \n    >>> a = np.arange(3)[::-1]; a\n    array([2, 1, 0])\n    >>> a.ravel(order='C')\n    array([2, 1, 0])\n    >>> a.ravel(order='K')\n    array([2, 1, 0])\n    \n    >>> a = np.arange(12).reshape(2,3,2).swapaxes(1,2); a\n    array([[[ 0,  2,  4],\n            [ 1,  3,  5]],\n           [[ 6,  8, 10],\n            [ 7,  9, 11]]])\n    >>> a.ravel(order='C')\n    array([ 0,  2,  4,  1,  3,  5,  6,  8, 10,  7,  9, 11])\n    >>> a.ravel(order='K')\n    array([ 0,  1,  2,  3,  4,  5,  6,  7,  8,  9, 10, 11])\n\n"
    }
   ],
   "source": [
    "help(np.ravel)"
   ]
  },
  {
   "cell_type": "code",
   "execution_count": 16,
   "metadata": {},
   "outputs": [
    {
     "name": "stderr",
     "output_type": "stream",
     "text": "C:\\Users\\uppup\\Anaconda3\\lib\\site-packages\\sklearn\\svm\\base.py:193: FutureWarning: The default value of gamma will change from 'auto' to 'scale' in version 0.22 to account better for unscaled features. Set gamma explicitly to 'auto' or 'scale' to avoid this warning.\n  \"avoid this warning.\", FutureWarning)\n"
    },
    {
     "data": {
      "text/plain": "SVC(C=1.0, cache_size=200, class_weight=None, coef0=0.0,\n    decision_function_shape='ovr', degree=3, gamma='auto_deprecated',\n    kernel='rbf', max_iter=-1, probability=False, random_state=None,\n    shrinking=True, tol=0.001, verbose=False)"
     },
     "execution_count": 16,
     "metadata": {},
     "output_type": "execute_result"
    }
   ],
   "source": [
    "from sklearn.svm import SVC\n",
    "model = SVC()\n",
    "model.fit(X_train, y_train)"
   ]
  },
  {
   "cell_type": "code",
   "execution_count": 17,
   "metadata": {},
   "outputs": [],
   "source": [
    "predictions = model.predict(X_test)"
   ]
  },
  {
   "cell_type": "code",
   "execution_count": 18,
   "metadata": {},
   "outputs": [
    {
     "name": "stdout",
     "output_type": "stream",
     "text": "[[  0  66]\n [  0 105]]\n\n\n              precision    recall  f1-score   support\n\n           0       0.00      0.00      0.00        66\n           1       0.61      1.00      0.76       105\n\n    accuracy                           0.61       171\n   macro avg       0.31      0.50      0.38       171\nweighted avg       0.38      0.61      0.47       171\n\nC:\\Users\\uppup\\Anaconda3\\lib\\site-packages\\sklearn\\metrics\\classification.py:1437: UndefinedMetricWarning: Precision and F-score are ill-defined and being set to 0.0 in labels with no predicted samples.\n  'precision', 'predicted', average, warn_for)\nC:\\Users\\uppup\\Anaconda3\\lib\\site-packages\\sklearn\\metrics\\classification.py:1437: UndefinedMetricWarning: Precision and F-score are ill-defined and being set to 0.0 in labels with no predicted samples.\n  'precision', 'predicted', average, warn_for)\nC:\\Users\\uppup\\Anaconda3\\lib\\site-packages\\sklearn\\metrics\\classification.py:1437: UndefinedMetricWarning: Precision and F-score are ill-defined and being set to 0.0 in labels with no predicted samples.\n  'precision', 'predicted', average, warn_for)\n"
    }
   ],
   "source": [
    "from sklearn.metrics import classification_report, confusion_matrix\n",
    "print(confusion_matrix(y_test,predictions))\n",
    "print(\"\\n\")\n",
    "print(classification_report(y_test,predictions))"
   ]
  },
  {
   "cell_type": "code",
   "execution_count": 19,
   "metadata": {},
   "outputs": [],
   "source": [
    "param_grid = {'C': [0.1, 1, 10, 100, 1000], 'gamma': [1, 0.1, 0.01, 0.001, 0.0001], 'kernel':['rbf']}"
   ]
  },
  {
   "cell_type": "code",
   "execution_count": 20,
   "metadata": {},
   "outputs": [],
   "source": [
    "from sklearn.model_selection import GridSearchCV\n",
    "grid = GridSearchCV(SVC(), param_grid, refit=True, verbose=3)"
   ]
  },
  {
   "cell_type": "code",
   "execution_count": 21,
   "metadata": {},
   "outputs": [
    {
     "name": "stderr",
     "output_type": "stream",
     "text": "C:\\Users\\uppup\\Anaconda3\\lib\\site-packages\\sklearn\\model_selection\\_split.py:1978: FutureWarning: The default value of cv will change from 3 to 5 in version 0.22. Specify it explicitly to silence this warning.\n  warnings.warn(CV_WARNING, FutureWarning)\n[Parallel(n_jobs=1)]: Using backend SequentialBackend with 1 concurrent workers.\n[Parallel(n_jobs=1)]: Done   1 out of   1 | elapsed:    0.0s remaining:    0.0s\n[Parallel(n_jobs=1)]: Done   2 out of   2 | elapsed:    0.0s remaining:    0.0s\nFitting 3 folds for each of 25 candidates, totalling 75 fits\n[CV] C=0.1, gamma=1, kernel=rbf ......................................\n[CV] .......... C=0.1, gamma=1, kernel=rbf, score=0.632, total=   0.0s\n[CV] C=0.1, gamma=1, kernel=rbf ......................................\n[CV] .......... C=0.1, gamma=1, kernel=rbf, score=0.632, total=   0.0s\n[CV] C=0.1, gamma=1, kernel=rbf ......................................\n[CV] .......... C=0.1, gamma=1, kernel=rbf, score=0.636, total=   0.0s\n[CV] C=0.1, gamma=0.1, kernel=rbf ....................................\n[CV] ........ C=0.1, gamma=0.1, kernel=rbf, score=0.632, total=   0.0s\n[CV] C=0.1, gamma=0.1, kernel=rbf ....................................\n[CV] ........ C=0.1, gamma=0.1, kernel=rbf, score=0.632, total=   0.0s\n[CV] C=0.1, gamma=0.1, kernel=rbf ....................................\n[CV] ........ C=0.1, gamma=0.1, kernel=rbf, score=0.636, total=   0.0s\n[CV] C=0.1, gamma=0.01, kernel=rbf ...................................\n[CV] ....... C=0.1, gamma=0.01, kernel=rbf, score=0.632, total=   0.0s\n[CV] C=0.1, gamma=0.01, kernel=rbf ...................................\n[CV] ....... C=0.1, gamma=0.01, kernel=rbf, score=0.632, total=   0.0s\n[CV] C=0.1, gamma=0.01, kernel=rbf ...................................\n[CV] ....... C=0.1, gamma=0.01, kernel=rbf, score=0.636, total=   0.0s\n[CV] C=0.1, gamma=0.001, kernel=rbf ..................................\n[CV] ...... C=0.1, gamma=0.001, kernel=rbf, score=0.632, total=   0.0s\n[CV] C=0.1, gamma=0.001, kernel=rbf ..................................\n[CV] ...... C=0.1, gamma=0.001, kernel=rbf, score=0.632, total=   0.0s\n[CV] C=0.1, gamma=0.001, kernel=rbf ..................................\n[CV] ...... C=0.1, gamma=0.001, kernel=rbf, score=0.636, total=   0.0s\n[CV] C=0.1, gamma=0.0001, kernel=rbf .................................\n[CV] ..... C=0.1, gamma=0.0001, kernel=rbf, score=0.902, total=   0.0s\n[CV] C=0.1, gamma=0.0001, kernel=rbf .................................\n[CV] ..... C=0.1, gamma=0.0001, kernel=rbf, score=0.962, total=   0.0s\n[CV] C=0.1, gamma=0.0001, kernel=rbf .................................\n[CV] ..... C=0.1, gamma=0.0001, kernel=rbf, score=0.917, total=   0.0s\n[CV] C=1, gamma=1, kernel=rbf ........................................\n[CV] ............ C=1, gamma=1, kernel=rbf, score=0.632, total=   0.0s\n[CV] C=1, gamma=1, kernel=rbf ........................................\n[CV] ............ C=1, gamma=1, kernel=rbf, score=0.632, total=   0.0s\n[CV] C=1, gamma=1, kernel=rbf ........................................\n[CV] ............ C=1, gamma=1, kernel=rbf, score=0.636, total=   0.0s\n[CV] C=1, gamma=0.1, kernel=rbf ......................................\n[CV] .......... C=1, gamma=0.1, kernel=rbf, score=0.632, total=   0.0s\n[CV] C=1, gamma=0.1, kernel=rbf ......................................\n[CV] .......... C=1, gamma=0.1, kernel=rbf, score=0.632, total=   0.0s\n[CV] C=1, gamma=0.1, kernel=rbf ......................................\n[CV] .......... C=1, gamma=0.1, kernel=rbf, score=0.636, total=   0.0s\n[CV] C=1, gamma=0.01, kernel=rbf .....................................\n[CV] ......... C=1, gamma=0.01, kernel=rbf, score=0.632, total=   0.0s\n[CV] C=1, gamma=0.01, kernel=rbf .....................................\n[CV] ......... C=1, gamma=0.01, kernel=rbf, score=0.632, total=   0.0s\n[CV] C=1, gamma=0.01, kernel=rbf .....................................\n[CV] ......... C=1, gamma=0.01, kernel=rbf, score=0.636, total=   0.0s\n[CV] C=1, gamma=0.001, kernel=rbf ....................................\n[CV] ........ C=1, gamma=0.001, kernel=rbf, score=0.902, total=   0.0s\n[CV] C=1, gamma=0.001, kernel=rbf ....................................\n[CV] ........ C=1, gamma=0.001, kernel=rbf, score=0.940, total=   0.0s\n[CV] C=1, gamma=0.001, kernel=rbf ....................................\n[CV] ........ C=1, gamma=0.001, kernel=rbf, score=0.955, total=   0.0s\n[CV] C=1, gamma=0.0001, kernel=rbf ...................................\n[CV] ....... C=1, gamma=0.0001, kernel=rbf, score=0.940, total=   0.0s\n[CV] C=1, gamma=0.0001, kernel=rbf ...................................\n[CV] ....... C=1, gamma=0.0001, kernel=rbf, score=0.970, total=   0.0s\n[CV] C=1, gamma=0.0001, kernel=rbf ...................................\n[CV] ....... C=1, gamma=0.0001, kernel=rbf, score=0.947, total=   0.0s\n[CV] C=10, gamma=1, kernel=rbf .......................................\n[CV] ........... C=10, gamma=1, kernel=rbf, score=0.632, total=   0.0s\n[CV] C=10, gamma=1, kernel=rbf .......................................\n[CV] ........... C=10, gamma=1, kernel=rbf, score=0.632, total=   0.0s\n[CV] C=10, gamma=1, kernel=rbf .......................................\n[CV] ........... C=10, gamma=1, kernel=rbf, score=0.636, total=   0.0s\n[CV] C=10, gamma=0.1, kernel=rbf .....................................\n[CV] ......... C=10, gamma=0.1, kernel=rbf, score=0.632, total=   0.0s\n[CV] C=10, gamma=0.1, kernel=rbf .....................................\n[CV] ......... C=10, gamma=0.1, kernel=rbf, score=0.632, total=   0.0s\n[CV] C=10, gamma=0.1, kernel=rbf .....................................\n[CV] ......... C=10, gamma=0.1, kernel=rbf, score=0.636, total=   0.0s\n[CV] C=10, gamma=0.01, kernel=rbf ....................................\n[CV] ........ C=10, gamma=0.01, kernel=rbf, score=0.632, total=   0.0s\n[CV] C=10, gamma=0.01, kernel=rbf ....................................\n[CV] ........ C=10, gamma=0.01, kernel=rbf, score=0.632, total=   0.0s\n[CV] C=10, gamma=0.01, kernel=rbf ....................................\n[CV] ........ C=10, gamma=0.01, kernel=rbf, score=0.636, total=   0.0s\n[CV] C=10, gamma=0.001, kernel=rbf ...................................\n[CV] ....... C=10, gamma=0.001, kernel=rbf, score=0.895, total=   0.0s\n[CV] C=10, gamma=0.001, kernel=rbf ...................................\n[CV] ....... C=10, gamma=0.001, kernel=rbf, score=0.932, total=   0.0s\n[CV] C=10, gamma=0.001, kernel=rbf ...................................\n[CV] ....... C=10, gamma=0.001, kernel=rbf, score=0.917, total=   0.0s\n[CV] C=10, gamma=0.0001, kernel=rbf ..................................\n[CV] ...... C=10, gamma=0.0001, kernel=rbf, score=0.932, total=   0.0s\n[CV] C=10, gamma=0.0001, kernel=rbf ..................................\n[CV] ...... C=10, gamma=0.0001, kernel=rbf, score=0.970, total=   0.0s\n[CV] C=10, gamma=0.0001, kernel=rbf ..................................\n[CV] ...... C=10, gamma=0.0001, kernel=rbf, score=0.962, total=   0.0s\n[CV] C=100, gamma=1, kernel=rbf ......................................\n[CV] .......... C=100, gamma=1, kernel=rbf, score=0.632, total=   0.0s\n[CV] C=100, gamma=1, kernel=rbf ......................................\n[CV] .......... C=100, gamma=1, kernel=rbf, score=0.632, total=   0.0s\n[CV] C=100, gamma=1, kernel=rbf ......................................\n[CV] .......... C=100, gamma=1, kernel=rbf, score=0.636, total=   0.0s\n[CV] C=100, gamma=0.1, kernel=rbf ....................................\n[CV] ........ C=100, gamma=0.1, kernel=rbf, score=0.632, total=   0.0s\n[CV] C=100, gamma=0.1, kernel=rbf ....................................\n[CV] ........ C=100, gamma=0.1, kernel=rbf, score=0.632, total=   0.0s\n[CV] C=100, gamma=0.1, kernel=rbf ....................................\n[CV] ........ C=100, gamma=0.1, kernel=rbf, score=0.636, total=   0.0s\n[CV] C=100, gamma=0.01, kernel=rbf ...................................\n[CV] ....... C=100, gamma=0.01, kernel=rbf, score=0.632, total=   0.0s\n[CV] C=100, gamma=0.01, kernel=rbf ...................................\n[CV] ....... C=100, gamma=0.01, kernel=rbf, score=0.632, total=   0.0s\n[CV] C=100, gamma=0.01, kernel=rbf ...................................\n[CV] ....... C=100, gamma=0.01, kernel=rbf, score=0.636, total=   0.0s\n[CV] C=100, gamma=0.001, kernel=rbf ..................................\n[CV] ...... C=100, gamma=0.001, kernel=rbf, score=0.895, total=   0.0s\n[CV] C=100, gamma=0.001, kernel=rbf ..................................\n[CV] ...... C=100, gamma=0.001, kernel=rbf, score=0.932, total=   0.0s\n[CV] C=100, gamma=0.001, kernel=rbf ..................................\n[CV] ...... C=100, gamma=0.001, kernel=rbf, score=0.917, total=   0.0s\n[CV] C=100, gamma=0.0001, kernel=rbf .................................\n[CV] ..... C=100, gamma=0.0001, kernel=rbf, score=0.917, total=   0.0s\n[CV] C=100, gamma=0.0001, kernel=rbf .................................\n[CV] ..... C=100, gamma=0.0001, kernel=rbf, score=0.977, total=   0.0s\n[CV] C=100, gamma=0.0001, kernel=rbf .................................\n[CV] ..... C=100, gamma=0.0001, kernel=rbf, score=0.939, total=   0.0s\n[CV] C=1000, gamma=1, kernel=rbf .....................................\n[CV] ......... C=1000, gamma=1, kernel=rbf, score=0.632, total=   0.0s\n[CV] C=1000, gamma=1, kernel=rbf .....................................\n[CV] ......... C=1000, gamma=1, kernel=rbf, score=0.632, total=   0.0s\n[CV] C=1000, gamma=1, kernel=rbf .....................................\n[CV] ......... C=1000, gamma=1, kernel=rbf, score=0.636, total=   0.0s\n[CV] C=1000, gamma=0.1, kernel=rbf ...................................\n[CV] ....... C=1000, gamma=0.1, kernel=rbf, score=0.632, total=   0.0s\n[CV] C=1000, gamma=0.1, kernel=rbf ...................................\n[CV] ....... C=1000, gamma=0.1, kernel=rbf, score=0.632, total=   0.0s\n[CV] C=1000, gamma=0.1, kernel=rbf ...................................\n[CV] ....... C=1000, gamma=0.1, kernel=rbf, score=0.636, total=   0.0s\n[CV] C=1000, gamma=0.01, kernel=rbf ..................................\n[CV] ...... C=1000, gamma=0.01, kernel=rbf, score=0.632, total=   0.0s\n[CV] C=1000, gamma=0.01, kernel=rbf ..................................\n[CV] ...... C=1000, gamma=0.01, kernel=rbf, score=0.632, total=   0.0s\n[CV] C=1000, gamma=0.01, kernel=rbf ..................................\n[CV] ...... C=1000, gamma=0.01, kernel=rbf, score=0.636, total=   0.0s\n[CV] C=1000, gamma=0.001, kernel=rbf .................................\n[CV] ..... C=1000, gamma=0.001, kernel=rbf, score=0.895, total=   0.0s\n[CV] C=1000, gamma=0.001, kernel=rbf .................................\n[CV] ..... C=1000, gamma=0.001, kernel=rbf, score=0.932, total=   0.0s\n[CV] C=1000, gamma=0.001, kernel=rbf .................................\n[CV] ..... C=1000, gamma=0.001, kernel=rbf, score=0.917, total=   0.0s\n[CV] C=1000, gamma=0.0001, kernel=rbf ................................\n[CV] .... C=1000, gamma=0.0001, kernel=rbf, score=0.910, total=   0.0s\n[CV] C=1000, gamma=0.0001, kernel=rbf ................................\n[CV] .... C=1000, gamma=0.0001, kernel=rbf, score=0.970, total=   0.0s\n[CV] C=1000, gamma=0.0001, kernel=rbf ................................\n[CV] .... C=1000, gamma=0.0001, kernel=rbf, score=0.932, total=   0.0s\n[Parallel(n_jobs=1)]: Done  75 out of  75 | elapsed:    0.9s finished\n"
    },
    {
     "data": {
      "text/plain": "GridSearchCV(cv='warn', error_score='raise-deprecating',\n             estimator=SVC(C=1.0, cache_size=200, class_weight=None, coef0=0.0,\n                           decision_function_shape='ovr', degree=3,\n                           gamma='auto_deprecated', kernel='rbf', max_iter=-1,\n                           probability=False, random_state=None, shrinking=True,\n                           tol=0.001, verbose=False),\n             iid='warn', n_jobs=None,\n             param_grid={'C': [0.1, 1, 10, 100, 1000],\n                         'gamma': [1, 0.1, 0.01, 0.001, 0.0001],\n                         'kernel': ['rbf']},\n             pre_dispatch='2*n_jobs', refit=True, return_train_score=False,\n             scoring=None, verbose=3)"
     },
     "execution_count": 21,
     "metadata": {},
     "output_type": "execute_result"
    }
   ],
   "source": [
    "grid.fit(X_train, y_train)"
   ]
  },
  {
   "cell_type": "code",
   "execution_count": 22,
   "metadata": {},
   "outputs": [
    {
     "data": {
      "text/plain": "{'C': 10, 'gamma': 0.0001, 'kernel': 'rbf'}"
     },
     "execution_count": 22,
     "metadata": {},
     "output_type": "execute_result"
    }
   ],
   "source": [
    "grid.best_params_"
   ]
  },
  {
   "cell_type": "code",
   "execution_count": 23,
   "metadata": {},
   "outputs": [
    {
     "data": {
      "text/plain": "SVC(C=10, cache_size=200, class_weight=None, coef0=0.0,\n    decision_function_shape='ovr', degree=3, gamma=0.0001, kernel='rbf',\n    max_iter=-1, probability=False, random_state=None, shrinking=True,\n    tol=0.001, verbose=False)"
     },
     "execution_count": 23,
     "metadata": {},
     "output_type": "execute_result"
    }
   ],
   "source": [
    "grid.best_estimator_"
   ]
  },
  {
   "cell_type": "code",
   "execution_count": 25,
   "metadata": {},
   "outputs": [
    {
     "name": "stdout",
     "output_type": "stream",
     "text": "[[ 60   6]\n [  3 102]]\n\n\n              precision    recall  f1-score   support\n\n           0       0.95      0.91      0.93        66\n           1       0.94      0.97      0.96       105\n\n    accuracy                           0.95       171\n   macro avg       0.95      0.94      0.94       171\nweighted avg       0.95      0.95      0.95       171\n\n"
    }
   ],
   "source": [
    "grid_predictions = grid.predict(X_test)\n",
    "print(confusion_matrix(y_test,grid_predictions))\n",
    "print(\"\\n\")\n",
    "print(classification_report(y_test,grid_predictions))"
   ]
  },
  {
   "cell_type": "code",
   "execution_count": null,
   "metadata": {},
   "outputs": [],
   "source": []
  }
 ]
}